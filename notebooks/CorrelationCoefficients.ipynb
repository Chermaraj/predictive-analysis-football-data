{
 "cells": [
  {
   "cell_type": "markdown",
   "metadata": {},
   "source": [
    "#  Total number of Home Wins, Draws, and Away Wins"
   ]
  },
  {
   "cell_type": "markdown",
   "metadata": {},
   "source": [
    "Import necessary libraries"
   ]
  },
  {
   "cell_type": "code",
   "execution_count": 23,
   "metadata": {
    "collapsed": true
   },
   "outputs": [],
   "source": [
    "import requests\n",
    "import json\n",
    "import numpy as np\n",
    "import matplotlib.pyplot as plt\n",
    "%matplotlib inline"
   ]
  },
  {
   "cell_type": "markdown",
   "metadata": {},
   "source": [
    "The `BASE_URL` will point the notebook at the Django API. If using localhost, the Django projcet must be running."
   ]
  },
  {
   "cell_type": "code",
   "execution_count": 24,
   "metadata": {
    "collapsed": true
   },
   "outputs": [],
   "source": [
    "BASE_URL = 'http://127.0.0.1:8000/api/'"
   ]
  },
  {
   "cell_type": "markdown",
   "metadata": {},
   "source": [
    "The `results` array contains three indexes, one each for home wins, draws, and away wins."
   ]
  },
  {
   "cell_type": "code",
   "execution_count": 25,
   "metadata": {
    "collapsed": true
   },
   "outputs": [],
   "source": [
    "full_time_results = []\n",
    "half_time_results = []\n",
    "full_time_home_goals = []\n",
    "full_time_away_goals = []\n",
    "half_time_home_goals = []\n",
    "half_time_away_goals = []\n",
    "home_total_shots = []\n",
    "away_total_shots = []\n",
    "home_shots_on_target = []\n",
    "away_shots_on_target = []\n",
    "home_fouls_committed = []\n",
    "away_fouls_committed = []\n",
    "home_corners = []\n",
    "away_corners = []\n",
    "home_yellow_cards = []\n",
    "away_yellow_cards = []\n",
    "home_red_cards = []\n",
    "away_red_cards = []\n",
    "\n",
    "results_map = {\n",
    "    'H': 2,\n",
    "    'D': 1,\n",
    "    'A': 0,\n",
    "}"
   ]
  },
  {
   "cell_type": "markdown",
   "metadata": {},
   "source": [
    "The API is paginated, with the `next` field being `null` when the last page is reached"
   ]
  },
  {
   "cell_type": "code",
   "execution_count": 26,
   "metadata": {
    "collapsed": false
   },
   "outputs": [],
   "source": [
    "next_url = BASE_URL + 'matches'\n",
    "\n",
    "while next_url is not None:\n",
    "    response = requests.get(next_url)\n",
    "    data = json.loads(response.text)\n",
    "    \n",
    "    for match in data['results']:\n",
    "        full_time_results.append(results_map[match['full_time_result']])\n",
    "        half_time_results.append(results_map[match['half_time_result']])\n",
    "        full_time_home_goals.append(match['full_time_home_goals'])\n",
    "        full_time_away_goals.append(match['full_time_away_goals'])\n",
    "        half_time_home_goals.append(match['half_time_home_goals'])\n",
    "        half_time_away_goals.append(match['half_time_away_goals'])\n",
    "        home_total_shots.append(match['home_total_shots'])\n",
    "        away_total_shots.append(match['away_total_shots'])\n",
    "        home_shots_on_target.append(match['home_shots_on_target'])\n",
    "        away_shots_on_target.append(match['away_shots_on_target'])\n",
    "        home_fouls_committed.append(match['home_fouls_committed'])\n",
    "        away_fouls_committed.append(match['away_fouls_committed'])\n",
    "        home_corners.append(match['home_corners'])\n",
    "        away_corners.append(match['away_corners'])\n",
    "        home_yellow_cards.append(match['home_yellow_cards'])\n",
    "        away_yellow_cards.append(match['away_yellow_cards'])\n",
    "        home_red_cards.append(match['home_red_cards'])\n",
    "        away_red_cards.append(match['away_red_cards'])\n",
    "    next_url = data['next']"
   ]
  },
  {
   "cell_type": "code",
   "execution_count": 27,
   "metadata": {
    "collapsed": true
   },
   "outputs": [],
   "source": [
    "full_time_results = np.array(full_time_results)\n",
    "half_time_results = np.array(half_time_results)\n",
    "full_time_home_goals = np.array(full_time_home_goals)\n",
    "full_time_away_goals = np.array(full_time_away_goals)\n",
    "half_time_home_goals = np.array(half_time_home_goals)\n",
    "half_time_away_goals = np.array(half_time_away_goals)\n",
    "home_total_shots = np.array(home_total_shots)\n",
    "away_total_shots = np.array(away_total_shots)\n",
    "home_shots_on_target = np.array(home_shots_on_target)\n",
    "away_shots_on_target = np.array(away_shots_on_target)\n",
    "home_fouls_committed = np.array(home_fouls_committed)\n",
    "away_fouls_committed = np.array(away_fouls_committed)\n",
    "home_yellow_cards = np.array(home_yellow_cards)\n",
    "away_yellow_cards = np.array(away_yellow_cards)\n",
    "home_red_cards = np.array(home_red_cards)\n",
    "away_red_cards = np.array(away_red_cards)"
   ]
  },
  {
   "cell_type": "code",
   "execution_count": 28,
   "metadata": {
    "collapsed": false
   },
   "outputs": [
    {
     "name": "stdout",
     "output_type": "stream",
     "text": [
      "Half time result\n",
      "0.599908948513\n",
      "\n",
      "Half time home team goals\n",
      "0.426158853337\n",
      "\n",
      "Half time away team goals\n",
      "-0.421252370141\n",
      "\n",
      "Half time score difference\n",
      "0.59035388328\n",
      "\n",
      "Home team total shots\n",
      "0.165408982147\n",
      "\n",
      "Away team total shots\n",
      "-0.201354880381\n",
      "\n",
      "Home total shots - away total shots\n",
      "0.225538350192\n",
      "\n",
      "Home shots on target\n",
      "0.341577733021\n",
      "\n",
      "Away shots on target\n",
      "-0.352839006652\n",
      "\n",
      "Home shots on target - away shots on target\n",
      "0.477099846552\n",
      "\n",
      "Home fouls committed\n",
      "-0.0353679565523\n",
      "\n",
      "Away fouls committed\n",
      "0.00690092796755\n",
      "\n",
      "Home fouls - away fouls\n",
      "-0.0343452055832\n",
      "\n",
      "Home yellow cards\n",
      "-0.110072622632\n",
      "\n",
      "Away yellow cards\n",
      "0.00896119152797\n",
      "\n",
      "Home red cards\n",
      "-0.144572322303\n",
      "\n",
      "Away red cards\n",
      "0.123720707229\n",
      "\n"
     ]
    }
   ],
   "source": [
    "print('Half time result')\n",
    "print(np.corrcoef(half_time_results, full_time_results)[0][1])\n",
    "print('')\n",
    "\n",
    "print('Half time home team goals')\n",
    "print(np.corrcoef(half_time_home_goals, full_time_results)[0][1])\n",
    "print('')\n",
    "\n",
    "print('Half time away team goals')\n",
    "print(np.corrcoef(half_time_away_goals, full_time_results)[0][1])\n",
    "print('')\n",
    "\n",
    "print('Half time score difference')\n",
    "print(np.corrcoef(np.subtract(half_time_home_goals, half_time_away_goals), full_time_results)[0][1])\n",
    "print('')\n",
    "\n",
    "print('Home team total shots')\n",
    "print(np.corrcoef(home_total_shots, full_time_results)[0][1])\n",
    "print('')\n",
    "\n",
    "print('Away team total shots')\n",
    "print(np.corrcoef(away_total_shots, full_time_results)[0][1])\n",
    "print('')\n",
    "\n",
    "print('Home total shots - away total shots')\n",
    "print(np.corrcoef(np.subtract(home_total_shots, away_total_shots), full_time_results)[0][1])\n",
    "print('')\n",
    "\n",
    "print('Home shots on target')\n",
    "print(np.corrcoef(home_shots_on_target, full_time_results)[0][1])\n",
    "print('')\n",
    "\n",
    "print('Away shots on target')\n",
    "print(np.corrcoef(away_shots_on_target, full_time_results)[0][1])\n",
    "print('')\n",
    "\n",
    "print('Home shots on target - away shots on target')\n",
    "print(np.corrcoef(np.subtract(home_shots_on_target, away_shots_on_target), full_time_results)[0][1])\n",
    "print('')\n",
    "\n",
    "print('Home fouls committed')\n",
    "print(np.corrcoef(home_fouls_committed, full_time_results)[0][1])\n",
    "print('')\n",
    "\n",
    "print('Away fouls committed')\n",
    "print(np.corrcoef(away_fouls_committed, full_time_results)[0][1])\n",
    "print('')\n",
    "\n",
    "print('Home fouls - away fouls')\n",
    "print(np.corrcoef(np.subtract(home_fouls_committed, away_fouls_committed), full_time_results)[0][1])\n",
    "print('')\n",
    "\n",
    "print('Home yellow cards')\n",
    "print(np.corrcoef(home_yellow_cards, full_time_results)[0][1])\n",
    "print('')\n",
    "\n",
    "print('Away yellow cards')\n",
    "print(np.corrcoef(away_yellow_cards, full_time_results)[0][1])\n",
    "print('')\n",
    "\n",
    "print('Home red cards')\n",
    "print(np.corrcoef(home_red_cards, full_time_results)[0][1])\n",
    "print('')\n",
    "\n",
    "print('Away red cards')\n",
    "print(np.corrcoef(away_red_cards, full_time_results)[0][1])\n",
    "print('')"
   ]
  },
  {
   "cell_type": "code",
   "execution_count": 37,
   "metadata": {
    "collapsed": false
   },
   "outputs": [
    {
     "name": "stdout",
     "output_type": "stream",
     "text": [
      "-0.0176805350084\n"
     ]
    }
   ],
   "source": [
    "print(np.corrcoef(np.add(home_fouls_committed, away_fouls_committed), full_time_results)[0][1])"
   ]
  },
  {
   "cell_type": "code",
   "execution_count": null,
   "metadata": {
    "collapsed": true
   },
   "outputs": [],
   "source": []
  }
 ],
 "metadata": {
  "anaconda-cloud": {},
  "kernelspec": {
   "display_name": "Python [conda env:django_conda]",
   "language": "python",
   "name": "conda-env-django_conda-py"
  },
  "language_info": {
   "codemirror_mode": {
    "name": "ipython",
    "version": 3
   },
   "file_extension": ".py",
   "mimetype": "text/x-python",
   "name": "python",
   "nbconvert_exporter": "python",
   "pygments_lexer": "ipython3",
   "version": "3.5.2"
  }
 },
 "nbformat": 4,
 "nbformat_minor": 1
}
